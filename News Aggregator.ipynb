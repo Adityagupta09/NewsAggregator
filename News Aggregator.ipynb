{
 "cells": [
  {
   "cell_type": "code",
   "execution_count": 2,
   "id": "771b831e",
   "metadata": {},
   "outputs": [],
   "source": [
    "import requests\n",
    "from bs4 import BeautifulSoup"
   ]
  },
  {
   "cell_type": "code",
   "execution_count": 3,
   "id": "d8c294ef",
   "metadata": {},
   "outputs": [],
   "source": [
    "def scrape_news_website(url, keyword):\n",
    "    news_articles = []\n",
    "    response = requests.get(url)\n",
    "    soup = BeautifulSoup(response.content, 'html.parser')\n",
    "\n",
    "    articles = soup.find_all('article')\n",
    "\n",
    "    for article in articles:\n",
    "        title_element = article.find('h2')\n",
    "        summary_element = article.find('p')\n",
    "        link_element = article.find('a')\n",
    "\n",
    "        if title_element and summary_element and link_element:\n",
    "            title = title_element.text.strip() if title_element else \"\"\n",
    "            summary = summary_element.text.strip() if summary_element else \"\"\n",
    "            link = link_element.get('href') if link_element else \"\"\n",
    "\n",
    "            if keyword.lower() in title.lower():\n",
    "                news_article = {\n",
    "                    'title': title,\n",
    "                    'summary': summary,\n",
    "                    'link': link\n",
    "                }\n",
    "\n",
    "                news_articles.append(news_article)\n",
    "\n",
    "    return news_articles\n"
   ]
  },
  {
   "cell_type": "code",
   "execution_count": 4,
   "id": "ccb787d8",
   "metadata": {},
   "outputs": [],
   "source": [
    "websites = [\"https://example.com\"]\n",
    "keyword = \"example\"\n",
    "all_news_articles = []\n",
    "\n",
    "for website in websites:\n",
    "    news_articles = scrape_news_website(website, keyword)\n",
    "    all_news_articles.extend(news_articles)\n",
    "\n",
    "for article in all_news_articles:\n",
    "    print('Title:', article['title'])\n",
    "    print('Summary:', article['summary'])\n",
    "    print('Link:', article['link'])\n",
    "    print('---')"
   ]
  },
  {
   "cell_type": "code",
   "execution_count": null,
   "id": "e91024a2",
   "metadata": {},
   "outputs": [],
   "source": []
  }
 ],
 "metadata": {
  "kernelspec": {
   "display_name": "Python 3 (ipykernel)",
   "language": "python",
   "name": "python3"
  },
  "language_info": {
   "codemirror_mode": {
    "name": "ipython",
    "version": 3
   },
   "file_extension": ".py",
   "mimetype": "text/x-python",
   "name": "python",
   "nbconvert_exporter": "python",
   "pygments_lexer": "ipython3",
   "version": "3.9.7"
  }
 },
 "nbformat": 4,
 "nbformat_minor": 5
}
